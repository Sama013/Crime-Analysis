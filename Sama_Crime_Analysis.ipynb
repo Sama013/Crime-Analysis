{
 "cells": [
  {
   "cell_type": "markdown",
   "id": "b574527a",
   "metadata": {},
   "source": [
    "# Crime Analysis in the city of Chicago for the year 2021"
   ]
  },
  {
   "cell_type": "markdown",
   "id": "1480b7e4",
   "metadata": {},
   "source": [
    "In this project I have downloaded, processed, and analyzed a large data set that contains crimes reported in the city of Chicago.\n",
    "\n",
    "The data is available at [this location](https://data.cityofchicago.org/Public-Safety/Crimes-2021/dwme-t96c/about_data).\n"
   ]
  },
  {
   "cell_type": "code",
   "execution_count": 2,
   "id": "cf08cb30",
   "metadata": {
    "tags": []
   },
   "outputs": [],
   "source": [
    "%matplotlib inline\n",
    "\n",
    "import pandas as pd\n",
    "import numpy as np"
   ]
  },
  {
   "cell_type": "code",
   "execution_count": 3,
   "id": "968c2388",
   "metadata": {
    "tags": []
   },
   "outputs": [],
   "source": [
    "#Defining location of dataset \n",
    "filepath = \"~/library/ist652/fall2024/Assignments/Crimes_-_2021_20241002.csv\""
   ]
  },
  {
   "cell_type": "code",
   "execution_count": 4,
   "id": "ec9763fc",
   "metadata": {
    "tags": []
   },
   "outputs": [
    {
     "name": "stderr",
     "output_type": "stream",
     "text": [
      "/tmp/ipykernel_5443/3319336883.py:4: UserWarning: Could not infer format, so each element will be parsed individually, falling back to `dateutil`. To ensure parsing is consistent and as-expected, please specify a format.\n",
      "  crimes = pd.read_csv(filepath, parse_dates=[0], index_col=[0])\n"
     ]
    }
   ],
   "source": [
    "#Loading the dataset\n",
    "# a security warning will appear. You can ignore it.\n",
    "\n",
    "crimes = pd.read_csv(filepath, parse_dates=[0], index_col=[0])"
   ]
  },
  {
   "cell_type": "code",
   "execution_count": 5,
   "id": "a906df94",
   "metadata": {
    "tags": []
   },
   "outputs": [
    {
     "data": {
      "text/html": [
       "<div>\n",
       "<style scoped>\n",
       "    .dataframe tbody tr th:only-of-type {\n",
       "        vertical-align: middle;\n",
       "    }\n",
       "\n",
       "    .dataframe tbody tr th {\n",
       "        vertical-align: top;\n",
       "    }\n",
       "\n",
       "    .dataframe thead th {\n",
       "        text-align: right;\n",
       "    }\n",
       "</style>\n",
       "<table border=\"1\" class=\"dataframe\">\n",
       "  <thead>\n",
       "    <tr style=\"text-align: right;\">\n",
       "      <th></th>\n",
       "      <th>Case Number</th>\n",
       "      <th>Date</th>\n",
       "      <th>Block</th>\n",
       "      <th>IUCR</th>\n",
       "      <th>Primary Type</th>\n",
       "      <th>Description</th>\n",
       "      <th>Location Description</th>\n",
       "      <th>Arrest</th>\n",
       "      <th>Domestic</th>\n",
       "      <th>Beat</th>\n",
       "      <th>...</th>\n",
       "      <th>Ward</th>\n",
       "      <th>Community Area</th>\n",
       "      <th>FBI Code</th>\n",
       "      <th>X Coordinate</th>\n",
       "      <th>Y Coordinate</th>\n",
       "      <th>Year</th>\n",
       "      <th>Updated On</th>\n",
       "      <th>Latitude</th>\n",
       "      <th>Longitude</th>\n",
       "      <th>Location</th>\n",
       "    </tr>\n",
       "    <tr>\n",
       "      <th>ID</th>\n",
       "      <th></th>\n",
       "      <th></th>\n",
       "      <th></th>\n",
       "      <th></th>\n",
       "      <th></th>\n",
       "      <th></th>\n",
       "      <th></th>\n",
       "      <th></th>\n",
       "      <th></th>\n",
       "      <th></th>\n",
       "      <th></th>\n",
       "      <th></th>\n",
       "      <th></th>\n",
       "      <th></th>\n",
       "      <th></th>\n",
       "      <th></th>\n",
       "      <th></th>\n",
       "      <th></th>\n",
       "      <th></th>\n",
       "      <th></th>\n",
       "      <th></th>\n",
       "    </tr>\n",
       "  </thead>\n",
       "  <tbody>\n",
       "    <tr>\n",
       "      <th>25953</th>\n",
       "      <td>JE240540</td>\n",
       "      <td>05/24/2021 03:06:00 PM</td>\n",
       "      <td>020XX N LARAMIE AVE</td>\n",
       "      <td>0110</td>\n",
       "      <td>HOMICIDE</td>\n",
       "      <td>FIRST DEGREE MURDER</td>\n",
       "      <td>STREET</td>\n",
       "      <td>True</td>\n",
       "      <td>False</td>\n",
       "      <td>2515</td>\n",
       "      <td>...</td>\n",
       "      <td>36.0</td>\n",
       "      <td>19</td>\n",
       "      <td>01A</td>\n",
       "      <td>1141387.0</td>\n",
       "      <td>1913179.0</td>\n",
       "      <td>2021</td>\n",
       "      <td>11/18/2023 03:39:49 PM</td>\n",
       "      <td>41.917838</td>\n",
       "      <td>-87.755969</td>\n",
       "      <td>(41.917838056, -87.755968972)</td>\n",
       "    </tr>\n",
       "    <tr>\n",
       "      <th>26038</th>\n",
       "      <td>JE279849</td>\n",
       "      <td>06/26/2021 09:24:00 AM</td>\n",
       "      <td>062XX N MC CORMICK RD</td>\n",
       "      <td>0110</td>\n",
       "      <td>HOMICIDE</td>\n",
       "      <td>FIRST DEGREE MURDER</td>\n",
       "      <td>PARKING LOT</td>\n",
       "      <td>True</td>\n",
       "      <td>False</td>\n",
       "      <td>1711</td>\n",
       "      <td>...</td>\n",
       "      <td>50.0</td>\n",
       "      <td>13</td>\n",
       "      <td>01A</td>\n",
       "      <td>1152781.0</td>\n",
       "      <td>1941458.0</td>\n",
       "      <td>2021</td>\n",
       "      <td>11/18/2023 03:39:49 PM</td>\n",
       "      <td>41.995219</td>\n",
       "      <td>-87.713355</td>\n",
       "      <td>(41.995219444, -87.713354912)</td>\n",
       "    </tr>\n",
       "    <tr>\n",
       "      <th>12342615</th>\n",
       "      <td>JE202211</td>\n",
       "      <td>04/17/2021 03:20:00 PM</td>\n",
       "      <td>081XX S PRAIRIE AVE</td>\n",
       "      <td>0325</td>\n",
       "      <td>ROBBERY</td>\n",
       "      <td>VEHICULAR HIJACKING</td>\n",
       "      <td>RESIDENCE</td>\n",
       "      <td>True</td>\n",
       "      <td>False</td>\n",
       "      <td>631</td>\n",
       "      <td>...</td>\n",
       "      <td>6.0</td>\n",
       "      <td>44</td>\n",
       "      <td>03</td>\n",
       "      <td>1179448.0</td>\n",
       "      <td>1851073.0</td>\n",
       "      <td>2021</td>\n",
       "      <td>09/14/2023 03:41:59 PM</td>\n",
       "      <td>41.746626</td>\n",
       "      <td>-87.618032</td>\n",
       "      <td>(41.746626309, -87.618031954)</td>\n",
       "    </tr>\n",
       "    <tr>\n",
       "      <th>26262</th>\n",
       "      <td>JE366265</td>\n",
       "      <td>09/08/2021 04:45:00 PM</td>\n",
       "      <td>047XX W HARRISON ST</td>\n",
       "      <td>0110</td>\n",
       "      <td>HOMICIDE</td>\n",
       "      <td>FIRST DEGREE MURDER</td>\n",
       "      <td>CAR WASH</td>\n",
       "      <td>True</td>\n",
       "      <td>False</td>\n",
       "      <td>1131</td>\n",
       "      <td>...</td>\n",
       "      <td>24.0</td>\n",
       "      <td>25</td>\n",
       "      <td>01A</td>\n",
       "      <td>1144907.0</td>\n",
       "      <td>1896933.0</td>\n",
       "      <td>2021</td>\n",
       "      <td>09/14/2023 03:41:59 PM</td>\n",
       "      <td>41.873191</td>\n",
       "      <td>-87.743447</td>\n",
       "      <td>(41.873191445, -87.743446563)</td>\n",
       "    </tr>\n",
       "    <tr>\n",
       "      <th>13209581</th>\n",
       "      <td>JG422927</td>\n",
       "      <td>08/01/2021 12:00:00 AM</td>\n",
       "      <td>012XX E 78TH ST</td>\n",
       "      <td>1563</td>\n",
       "      <td>SEX OFFENSE</td>\n",
       "      <td>CRIMINAL SEXUAL ABUSE</td>\n",
       "      <td>APARTMENT</td>\n",
       "      <td>False</td>\n",
       "      <td>False</td>\n",
       "      <td>411</td>\n",
       "      <td>...</td>\n",
       "      <td>8.0</td>\n",
       "      <td>45</td>\n",
       "      <td>17</td>\n",
       "      <td>NaN</td>\n",
       "      <td>NaN</td>\n",
       "      <td>2021</td>\n",
       "      <td>09/14/2023 03:43:09 PM</td>\n",
       "      <td>NaN</td>\n",
       "      <td>NaN</td>\n",
       "      <td>NaN</td>\n",
       "    </tr>\n",
       "  </tbody>\n",
       "</table>\n",
       "<p>5 rows × 21 columns</p>\n",
       "</div>"
      ],
      "text/plain": [
       "         Case Number                    Date                  Block  IUCR  \\\n",
       "ID                                                                          \n",
       "25953       JE240540  05/24/2021 03:06:00 PM    020XX N LARAMIE AVE  0110   \n",
       "26038       JE279849  06/26/2021 09:24:00 AM  062XX N MC CORMICK RD  0110   \n",
       "12342615    JE202211  04/17/2021 03:20:00 PM    081XX S PRAIRIE AVE  0325   \n",
       "26262       JE366265  09/08/2021 04:45:00 PM    047XX W HARRISON ST  0110   \n",
       "13209581    JG422927  08/01/2021 12:00:00 AM        012XX E 78TH ST  1563   \n",
       "\n",
       "         Primary Type            Description Location Description  Arrest  \\\n",
       "ID                                                                          \n",
       "25953        HOMICIDE    FIRST DEGREE MURDER               STREET    True   \n",
       "26038        HOMICIDE    FIRST DEGREE MURDER          PARKING LOT    True   \n",
       "12342615      ROBBERY    VEHICULAR HIJACKING            RESIDENCE    True   \n",
       "26262        HOMICIDE    FIRST DEGREE MURDER             CAR WASH    True   \n",
       "13209581  SEX OFFENSE  CRIMINAL SEXUAL ABUSE            APARTMENT   False   \n",
       "\n",
       "          Domestic  Beat  ...  Ward  Community Area  FBI Code X Coordinate  \\\n",
       "ID                        ...                                                \n",
       "25953        False  2515  ...  36.0              19       01A    1141387.0   \n",
       "26038        False  1711  ...  50.0              13       01A    1152781.0   \n",
       "12342615     False   631  ...   6.0              44        03    1179448.0   \n",
       "26262        False  1131  ...  24.0              25       01A    1144907.0   \n",
       "13209581     False   411  ...   8.0              45        17          NaN   \n",
       "\n",
       "          Y Coordinate  Year              Updated On   Latitude  Longitude  \\\n",
       "ID                                                                           \n",
       "25953        1913179.0  2021  11/18/2023 03:39:49 PM  41.917838 -87.755969   \n",
       "26038        1941458.0  2021  11/18/2023 03:39:49 PM  41.995219 -87.713355   \n",
       "12342615     1851073.0  2021  09/14/2023 03:41:59 PM  41.746626 -87.618032   \n",
       "26262        1896933.0  2021  09/14/2023 03:41:59 PM  41.873191 -87.743447   \n",
       "13209581           NaN  2021  09/14/2023 03:43:09 PM        NaN        NaN   \n",
       "\n",
       "                               Location  \n",
       "ID                                       \n",
       "25953     (41.917838056, -87.755968972)  \n",
       "26038     (41.995219444, -87.713354912)  \n",
       "12342615  (41.746626309, -87.618031954)  \n",
       "26262     (41.873191445, -87.743446563)  \n",
       "13209581                            NaN  \n",
       "\n",
       "[5 rows x 21 columns]"
      ]
     },
     "execution_count": 5,
     "metadata": {},
     "output_type": "execute_result"
    }
   ],
   "source": [
    "crimes.head()"
   ]
  },
  {
   "cell_type": "code",
   "execution_count": 6,
   "id": "cbe7c447",
   "metadata": {},
   "outputs": [
    {
     "data": {
      "text/html": [
       "<div>\n",
       "<style scoped>\n",
       "    .dataframe tbody tr th:only-of-type {\n",
       "        vertical-align: middle;\n",
       "    }\n",
       "\n",
       "    .dataframe tbody tr th {\n",
       "        vertical-align: top;\n",
       "    }\n",
       "\n",
       "    .dataframe thead th {\n",
       "        text-align: right;\n",
       "    }\n",
       "</style>\n",
       "<table border=\"1\" class=\"dataframe\">\n",
       "  <thead>\n",
       "    <tr style=\"text-align: right;\">\n",
       "      <th></th>\n",
       "      <th>Case Number</th>\n",
       "      <th>Date</th>\n",
       "      <th>Block</th>\n",
       "      <th>IUCR</th>\n",
       "      <th>Primary Type</th>\n",
       "      <th>Description</th>\n",
       "      <th>Location Description</th>\n",
       "      <th>Arrest</th>\n",
       "      <th>Domestic</th>\n",
       "      <th>Beat</th>\n",
       "      <th>...</th>\n",
       "      <th>Ward</th>\n",
       "      <th>Community Area</th>\n",
       "      <th>FBI Code</th>\n",
       "      <th>X Coordinate</th>\n",
       "      <th>Y Coordinate</th>\n",
       "      <th>Year</th>\n",
       "      <th>Updated On</th>\n",
       "      <th>Latitude</th>\n",
       "      <th>Longitude</th>\n",
       "      <th>Location</th>\n",
       "    </tr>\n",
       "    <tr>\n",
       "      <th>ID</th>\n",
       "      <th></th>\n",
       "      <th></th>\n",
       "      <th></th>\n",
       "      <th></th>\n",
       "      <th></th>\n",
       "      <th></th>\n",
       "      <th></th>\n",
       "      <th></th>\n",
       "      <th></th>\n",
       "      <th></th>\n",
       "      <th></th>\n",
       "      <th></th>\n",
       "      <th></th>\n",
       "      <th></th>\n",
       "      <th></th>\n",
       "      <th></th>\n",
       "      <th></th>\n",
       "      <th></th>\n",
       "      <th></th>\n",
       "      <th></th>\n",
       "      <th></th>\n",
       "    </tr>\n",
       "  </thead>\n",
       "  <tbody>\n",
       "    <tr>\n",
       "      <th>13075828</th>\n",
       "      <td>JG264128</td>\n",
       "      <td>04/12/2021 09:00:00 AM</td>\n",
       "      <td>035XX W JACKSON BLVD</td>\n",
       "      <td>1153</td>\n",
       "      <td>DECEPTIVE PRACTICE</td>\n",
       "      <td>FINANCIAL IDENTITY THEFT OVER $ 300</td>\n",
       "      <td>APARTMENT</td>\n",
       "      <td>False</td>\n",
       "      <td>False</td>\n",
       "      <td>1123</td>\n",
       "      <td>...</td>\n",
       "      <td>28.0</td>\n",
       "      <td>27</td>\n",
       "      <td>11</td>\n",
       "      <td>NaN</td>\n",
       "      <td>NaN</td>\n",
       "      <td>2021</td>\n",
       "      <td>05/18/2023 03:41:30 PM</td>\n",
       "      <td>NaN</td>\n",
       "      <td>NaN</td>\n",
       "      <td>NaN</td>\n",
       "    </tr>\n",
       "    <tr>\n",
       "      <th>13101397</th>\n",
       "      <td>JG294103</td>\n",
       "      <td>05/04/2021 12:00:00 PM</td>\n",
       "      <td>072XX S PRAIRIE AVE</td>\n",
       "      <td>1242</td>\n",
       "      <td>DECEPTIVE PRACTICE</td>\n",
       "      <td>COMPUTER FRAUD</td>\n",
       "      <td>RESIDENCE</td>\n",
       "      <td>False</td>\n",
       "      <td>False</td>\n",
       "      <td>323</td>\n",
       "      <td>...</td>\n",
       "      <td>6.0</td>\n",
       "      <td>69</td>\n",
       "      <td>11</td>\n",
       "      <td>NaN</td>\n",
       "      <td>NaN</td>\n",
       "      <td>2021</td>\n",
       "      <td>06/10/2023 03:41:12 PM</td>\n",
       "      <td>NaN</td>\n",
       "      <td>NaN</td>\n",
       "      <td>NaN</td>\n",
       "    </tr>\n",
       "    <tr>\n",
       "      <th>13120321</th>\n",
       "      <td>JG317146</td>\n",
       "      <td>10/05/2021 12:00:00 AM</td>\n",
       "      <td>007XX E 81ST ST</td>\n",
       "      <td>0910</td>\n",
       "      <td>MOTOR VEHICLE THEFT</td>\n",
       "      <td>AUTOMOBILE</td>\n",
       "      <td>STREET</td>\n",
       "      <td>False</td>\n",
       "      <td>False</td>\n",
       "      <td>631</td>\n",
       "      <td>...</td>\n",
       "      <td>6.0</td>\n",
       "      <td>44</td>\n",
       "      <td>07</td>\n",
       "      <td>NaN</td>\n",
       "      <td>NaN</td>\n",
       "      <td>2021</td>\n",
       "      <td>06/27/2023 03:43:37 PM</td>\n",
       "      <td>NaN</td>\n",
       "      <td>NaN</td>\n",
       "      <td>NaN</td>\n",
       "    </tr>\n",
       "    <tr>\n",
       "      <th>13048321</th>\n",
       "      <td>JG160889</td>\n",
       "      <td>09/17/2021 12:00:00 AM</td>\n",
       "      <td>016XX N MASON AVE</td>\n",
       "      <td>1582</td>\n",
       "      <td>OFFENSE INVOLVING CHILDREN</td>\n",
       "      <td>CHILD PORNOGRAPHY</td>\n",
       "      <td>RESIDENCE</td>\n",
       "      <td>True</td>\n",
       "      <td>False</td>\n",
       "      <td>2531</td>\n",
       "      <td>...</td>\n",
       "      <td>29.0</td>\n",
       "      <td>25</td>\n",
       "      <td>17</td>\n",
       "      <td>NaN</td>\n",
       "      <td>NaN</td>\n",
       "      <td>2021</td>\n",
       "      <td>04/22/2023 03:40:07 PM</td>\n",
       "      <td>NaN</td>\n",
       "      <td>NaN</td>\n",
       "      <td>NaN</td>\n",
       "    </tr>\n",
       "    <tr>\n",
       "      <th>13092803</th>\n",
       "      <td>JG284184</td>\n",
       "      <td>08/23/2021 12:00:00 AM</td>\n",
       "      <td>036XX W SHAKESPEARE AVE</td>\n",
       "      <td>1563</td>\n",
       "      <td>SEX OFFENSE</td>\n",
       "      <td>CRIMINAL SEXUAL ABUSE</td>\n",
       "      <td>RESIDENCE</td>\n",
       "      <td>False</td>\n",
       "      <td>True</td>\n",
       "      <td>2525</td>\n",
       "      <td>...</td>\n",
       "      <td>35.0</td>\n",
       "      <td>22</td>\n",
       "      <td>17</td>\n",
       "      <td>NaN</td>\n",
       "      <td>NaN</td>\n",
       "      <td>2021</td>\n",
       "      <td>06/02/2023 03:41:42 PM</td>\n",
       "      <td>NaN</td>\n",
       "      <td>NaN</td>\n",
       "      <td>NaN</td>\n",
       "    </tr>\n",
       "  </tbody>\n",
       "</table>\n",
       "<p>5 rows × 21 columns</p>\n",
       "</div>"
      ],
      "text/plain": [
       "         Case Number                    Date                    Block  IUCR  \\\n",
       "ID                                                                            \n",
       "13075828    JG264128  04/12/2021 09:00:00 AM     035XX W JACKSON BLVD  1153   \n",
       "13101397    JG294103  05/04/2021 12:00:00 PM      072XX S PRAIRIE AVE  1242   \n",
       "13120321    JG317146  10/05/2021 12:00:00 AM          007XX E 81ST ST  0910   \n",
       "13048321    JG160889  09/17/2021 12:00:00 AM        016XX N MASON AVE  1582   \n",
       "13092803    JG284184  08/23/2021 12:00:00 AM  036XX W SHAKESPEARE AVE  1563   \n",
       "\n",
       "                        Primary Type                          Description  \\\n",
       "ID                                                                          \n",
       "13075828          DECEPTIVE PRACTICE  FINANCIAL IDENTITY THEFT OVER $ 300   \n",
       "13101397          DECEPTIVE PRACTICE                       COMPUTER FRAUD   \n",
       "13120321         MOTOR VEHICLE THEFT                           AUTOMOBILE   \n",
       "13048321  OFFENSE INVOLVING CHILDREN                    CHILD PORNOGRAPHY   \n",
       "13092803                 SEX OFFENSE                CRIMINAL SEXUAL ABUSE   \n",
       "\n",
       "         Location Description  Arrest  Domestic  Beat  ...  Ward  \\\n",
       "ID                                                     ...         \n",
       "13075828            APARTMENT   False     False  1123  ...  28.0   \n",
       "13101397            RESIDENCE   False     False   323  ...   6.0   \n",
       "13120321               STREET   False     False   631  ...   6.0   \n",
       "13048321            RESIDENCE    True     False  2531  ...  29.0   \n",
       "13092803            RESIDENCE   False      True  2525  ...  35.0   \n",
       "\n",
       "          Community Area  FBI Code X Coordinate  Y Coordinate  Year  \\\n",
       "ID                                                                    \n",
       "13075828              27        11          NaN           NaN  2021   \n",
       "13101397              69        11          NaN           NaN  2021   \n",
       "13120321              44        07          NaN           NaN  2021   \n",
       "13048321              25        17          NaN           NaN  2021   \n",
       "13092803              22        17          NaN           NaN  2021   \n",
       "\n",
       "                      Updated On Latitude  Longitude  Location  \n",
       "ID                                                              \n",
       "13075828  05/18/2023 03:41:30 PM      NaN        NaN       NaN  \n",
       "13101397  06/10/2023 03:41:12 PM      NaN        NaN       NaN  \n",
       "13120321  06/27/2023 03:43:37 PM      NaN        NaN       NaN  \n",
       "13048321  04/22/2023 03:40:07 PM      NaN        NaN       NaN  \n",
       "13092803  06/02/2023 03:41:42 PM      NaN        NaN       NaN  \n",
       "\n",
       "[5 rows x 21 columns]"
      ]
     },
     "execution_count": 6,
     "metadata": {},
     "output_type": "execute_result"
    }
   ],
   "source": [
    "crimes.tail()"
   ]
  },
  {
   "cell_type": "code",
   "execution_count": 7,
   "id": "28584f15",
   "metadata": {},
   "outputs": [
    {
     "name": "stdout",
     "output_type": "stream",
     "text": [
      "<class 'pandas.core.frame.DataFrame'>\n",
      "Index: 209357 entries, 25953 to 13092803\n",
      "Data columns (total 21 columns):\n",
      " #   Column                Non-Null Count   Dtype  \n",
      "---  ------                --------------   -----  \n",
      " 0   Case Number           209357 non-null  object \n",
      " 1   Date                  209357 non-null  object \n",
      " 2   Block                 209357 non-null  object \n",
      " 3   IUCR                  209357 non-null  object \n",
      " 4   Primary Type          209357 non-null  object \n",
      " 5   Description           209357 non-null  object \n",
      " 6   Location Description  208117 non-null  object \n",
      " 7   Arrest                209357 non-null  bool   \n",
      " 8   Domestic              209357 non-null  bool   \n",
      " 9   Beat                  209357 non-null  int64  \n",
      " 10  District              209357 non-null  int64  \n",
      " 11  Ward                  209346 non-null  float64\n",
      " 12  Community Area        209357 non-null  int64  \n",
      " 13  FBI Code              209357 non-null  object \n",
      " 14  X Coordinate          202871 non-null  float64\n",
      " 15  Y Coordinate          202871 non-null  float64\n",
      " 16  Year                  209357 non-null  int64  \n",
      " 17  Updated On            209357 non-null  object \n",
      " 18  Latitude              202871 non-null  float64\n",
      " 19  Longitude             202871 non-null  float64\n",
      " 20  Location              202871 non-null  object \n",
      "dtypes: bool(2), float64(5), int64(4), object(10)\n",
      "memory usage: 32.3+ MB\n"
     ]
    }
   ],
   "source": [
    "crimes.info()"
   ]
  },
  {
   "cell_type": "code",
   "execution_count": 8,
   "id": "dabb7583",
   "metadata": {
    "tags": []
   },
   "outputs": [
    {
     "data": {
      "text/plain": [
       "Case Number              object\n",
       "Date                     object\n",
       "Block                    object\n",
       "IUCR                     object\n",
       "Primary Type             object\n",
       "Description              object\n",
       "Location Description     object\n",
       "Arrest                     bool\n",
       "Domestic                   bool\n",
       "Beat                      int64\n",
       "District                  int64\n",
       "Ward                    float64\n",
       "Community Area            int64\n",
       "FBI Code                 object\n",
       "X Coordinate            float64\n",
       "Y Coordinate            float64\n",
       "Year                      int64\n",
       "Updated On               object\n",
       "Latitude                float64\n",
       "Longitude               float64\n",
       "Location                 object\n",
       "dtype: object"
      ]
     },
     "execution_count": 8,
     "metadata": {},
     "output_type": "execute_result"
    }
   ],
   "source": [
    "crimes.dtypes"
   ]
  },
  {
   "cell_type": "markdown",
   "id": "faf2d52b-61a6-414e-9abc-10cbb49c63f3",
   "metadata": {},
   "source": [
    "## Few Data _Cleaning techniques"
   ]
  },
  {
   "cell_type": "code",
   "execution_count": 9,
   "id": "d701a61b",
   "metadata": {
    "tags": []
   },
   "outputs": [
    {
     "data": {
      "text/plain": [
       "Case Number                0\n",
       "Date                       0\n",
       "Block                      0\n",
       "IUCR                       0\n",
       "Primary Type               0\n",
       "Description                0\n",
       "Location Description    1240\n",
       "Arrest                     0\n",
       "Domestic                   0\n",
       "Beat                       0\n",
       "District                   0\n",
       "Ward                      11\n",
       "Community Area             0\n",
       "FBI Code                   0\n",
       "X Coordinate            6486\n",
       "Y Coordinate            6486\n",
       "Year                       0\n",
       "Updated On                 0\n",
       "Latitude                6486\n",
       "Longitude               6486\n",
       "Location                6486\n",
       "dtype: int64"
      ]
     },
     "execution_count": 9,
     "metadata": {},
     "output_type": "execute_result"
    }
   ],
   "source": [
    "#Checking for missing values\n",
    "\n",
    "crimes.isna().sum()"
   ]
  },
  {
   "cell_type": "markdown",
   "id": "57f1a258-4261-4e36-81c7-dddaad22e453",
   "metadata": {},
   "source": [
    "#### There is some missing information in location and ward columns."
   ]
  },
  {
   "cell_type": "code",
   "execution_count": 10,
   "id": "c11eccce-07d3-4b26-9b05-5b358e5ddc63",
   "metadata": {
    "tags": []
   },
   "outputs": [
    {
     "data": {
      "text/plain": [
       "Index(['Case_Number', 'Date', 'Block', 'IUCR', 'Primary_Type', 'Description',\n",
       "       'Location_Description', 'Arrest', 'Domestic', 'Beat', 'District',\n",
       "       'Ward', 'Community_Area', 'FBI_Code', 'X_Coordinate', 'Y_Coordinate',\n",
       "       'Year', 'Updated_On', 'Latitude', 'Longitude', 'Location'],\n",
       "      dtype='object')"
      ]
     },
     "execution_count": 10,
     "metadata": {},
     "output_type": "execute_result"
    }
   ],
   "source": [
    "# We cannot use columns with space for codes like describe.\n",
    "# Hence, I will convert the columns name having space in them with '_'\n",
    "\n",
    "crimes.columns = crimes.columns.str.replace(' ', '_')\n",
    "crimes.columns"
   ]
  },
  {
   "cell_type": "code",
   "execution_count": 11,
   "id": "79939749-5491-4509-9572-1cb48cea9b42",
   "metadata": {
    "tags": []
   },
   "outputs": [
    {
     "data": {
      "text/html": [
       "<div>\n",
       "<style scoped>\n",
       "    .dataframe tbody tr th:only-of-type {\n",
       "        vertical-align: middle;\n",
       "    }\n",
       "\n",
       "    .dataframe tbody tr th {\n",
       "        vertical-align: top;\n",
       "    }\n",
       "\n",
       "    .dataframe thead th {\n",
       "        text-align: right;\n",
       "    }\n",
       "</style>\n",
       "<table border=\"1\" class=\"dataframe\">\n",
       "  <thead>\n",
       "    <tr style=\"text-align: right;\">\n",
       "      <th></th>\n",
       "      <th>Beat</th>\n",
       "      <th>District</th>\n",
       "      <th>Ward</th>\n",
       "      <th>Community_Area</th>\n",
       "      <th>X_Coordinate</th>\n",
       "      <th>Y_Coordinate</th>\n",
       "      <th>Year</th>\n",
       "      <th>Latitude</th>\n",
       "      <th>Longitude</th>\n",
       "    </tr>\n",
       "  </thead>\n",
       "  <tbody>\n",
       "    <tr>\n",
       "      <th>count</th>\n",
       "      <td>209357.000000</td>\n",
       "      <td>209357.000000</td>\n",
       "      <td>209346.000000</td>\n",
       "      <td>209357.000000</td>\n",
       "      <td>2.028710e+05</td>\n",
       "      <td>2.028710e+05</td>\n",
       "      <td>209357.0</td>\n",
       "      <td>202871.000000</td>\n",
       "      <td>202871.000000</td>\n",
       "    </tr>\n",
       "    <tr>\n",
       "      <th>mean</th>\n",
       "      <td>1151.149816</td>\n",
       "      <td>11.282470</td>\n",
       "      <td>23.143499</td>\n",
       "      <td>37.088500</td>\n",
       "      <td>1.165115e+06</td>\n",
       "      <td>1.885760e+06</td>\n",
       "      <td>2021.0</td>\n",
       "      <td>41.842109</td>\n",
       "      <td>-87.669615</td>\n",
       "    </tr>\n",
       "    <tr>\n",
       "      <th>std</th>\n",
       "      <td>698.703526</td>\n",
       "      <td>6.983591</td>\n",
       "      <td>13.904347</td>\n",
       "      <td>21.633944</td>\n",
       "      <td>1.655447e+04</td>\n",
       "      <td>3.201230e+04</td>\n",
       "      <td>0.0</td>\n",
       "      <td>0.088040</td>\n",
       "      <td>0.060253</td>\n",
       "    </tr>\n",
       "    <tr>\n",
       "      <th>min</th>\n",
       "      <td>111.000000</td>\n",
       "      <td>1.000000</td>\n",
       "      <td>1.000000</td>\n",
       "      <td>1.000000</td>\n",
       "      <td>1.091242e+06</td>\n",
       "      <td>1.813909e+06</td>\n",
       "      <td>2021.0</td>\n",
       "      <td>41.644608</td>\n",
       "      <td>-87.939733</td>\n",
       "    </tr>\n",
       "    <tr>\n",
       "      <th>25%</th>\n",
       "      <td>611.000000</td>\n",
       "      <td>6.000000</td>\n",
       "      <td>10.000000</td>\n",
       "      <td>23.000000</td>\n",
       "      <td>1.153355e+06</td>\n",
       "      <td>1.858101e+06</td>\n",
       "      <td>2021.0</td>\n",
       "      <td>41.765966</td>\n",
       "      <td>-87.712346</td>\n",
       "    </tr>\n",
       "    <tr>\n",
       "      <th>50%</th>\n",
       "      <td>1031.000000</td>\n",
       "      <td>10.000000</td>\n",
       "      <td>24.000000</td>\n",
       "      <td>32.000000</td>\n",
       "      <td>1.166967e+06</td>\n",
       "      <td>1.891283e+06</td>\n",
       "      <td>2021.0</td>\n",
       "      <td>41.857250</td>\n",
       "      <td>-87.662960</td>\n",
       "    </tr>\n",
       "    <tr>\n",
       "      <th>75%</th>\n",
       "      <td>1722.000000</td>\n",
       "      <td>17.000000</td>\n",
       "      <td>34.000000</td>\n",
       "      <td>55.000000</td>\n",
       "      <td>1.176822e+06</td>\n",
       "      <td>1.909222e+06</td>\n",
       "      <td>2021.0</td>\n",
       "      <td>41.906693</td>\n",
       "      <td>-87.626743</td>\n",
       "    </tr>\n",
       "    <tr>\n",
       "      <th>max</th>\n",
       "      <td>2535.000000</td>\n",
       "      <td>31.000000</td>\n",
       "      <td>50.000000</td>\n",
       "      <td>77.000000</td>\n",
       "      <td>1.205119e+06</td>\n",
       "      <td>1.951499e+06</td>\n",
       "      <td>2021.0</td>\n",
       "      <td>42.022548</td>\n",
       "      <td>-87.524529</td>\n",
       "    </tr>\n",
       "  </tbody>\n",
       "</table>\n",
       "</div>"
      ],
      "text/plain": [
       "                Beat       District           Ward  Community_Area  \\\n",
       "count  209357.000000  209357.000000  209346.000000   209357.000000   \n",
       "mean     1151.149816      11.282470      23.143499       37.088500   \n",
       "std       698.703526       6.983591      13.904347       21.633944   \n",
       "min       111.000000       1.000000       1.000000        1.000000   \n",
       "25%       611.000000       6.000000      10.000000       23.000000   \n",
       "50%      1031.000000      10.000000      24.000000       32.000000   \n",
       "75%      1722.000000      17.000000      34.000000       55.000000   \n",
       "max      2535.000000      31.000000      50.000000       77.000000   \n",
       "\n",
       "       X_Coordinate  Y_Coordinate      Year       Latitude      Longitude  \n",
       "count  2.028710e+05  2.028710e+05  209357.0  202871.000000  202871.000000  \n",
       "mean   1.165115e+06  1.885760e+06    2021.0      41.842109     -87.669615  \n",
       "std    1.655447e+04  3.201230e+04       0.0       0.088040       0.060253  \n",
       "min    1.091242e+06  1.813909e+06    2021.0      41.644608     -87.939733  \n",
       "25%    1.153355e+06  1.858101e+06    2021.0      41.765966     -87.712346  \n",
       "50%    1.166967e+06  1.891283e+06    2021.0      41.857250     -87.662960  \n",
       "75%    1.176822e+06  1.909222e+06    2021.0      41.906693     -87.626743  \n",
       "max    1.205119e+06  1.951499e+06    2021.0      42.022548     -87.524529  "
      ]
     },
     "execution_count": 11,
     "metadata": {},
     "output_type": "execute_result"
    }
   ],
   "source": [
    "crimes.describe()"
   ]
  },
  {
   "cell_type": "code",
   "execution_count": 12,
   "id": "b5d994eb",
   "metadata": {
    "tags": []
   },
   "outputs": [
    {
     "data": {
      "text/plain": [
       "count     209357\n",
       "unique       279\n",
       "top       SIMPLE\n",
       "freq       24594\n",
       "Name: Description, dtype: object"
      ]
     },
     "execution_count": 12,
     "metadata": {},
     "output_type": "execute_result"
    }
   ],
   "source": [
    "crimes.Description.describe()"
   ]
  },
  {
   "cell_type": "markdown",
   "id": "9b523fe3",
   "metadata": {},
   "source": [
    "# Data analysis 1 - Analysis of crime categories (arrest and primary type) over the months"
   ]
  },
  {
   "cell_type": "markdown",
   "id": "e0fcd6b1-bc16-4f1c-a68d-b50d944fd500",
   "metadata": {},
   "source": [
    "### Analyzing the different categories of crimes recorded and creating a visual plot of the one with most meaning."
   ]
  },
  {
   "cell_type": "code",
   "execution_count": 18,
   "id": "40ed35be-df86-4e60-a869-b134b0378898",
   "metadata": {
    "tags": []
   },
   "outputs": [
    {
     "data": {
      "text/plain": [
       "Arrest\n",
       "False    182819\n",
       "True      26538\n",
       "dtype: int64"
      ]
     },
     "execution_count": 18,
     "metadata": {},
     "output_type": "execute_result"
    }
   ],
   "source": [
    "#Getting the arrest type count\n",
    "arrest = crimes.groupby('Arrest')\n",
    "df2 = arrest.size()\n",
    "df2"
   ]
  },
  {
   "cell_type": "code",
   "execution_count": 19,
   "id": "1b06ab8f-fe82-4a0a-ba08-d0cd012ee316",
   "metadata": {
    "tags": []
   },
   "outputs": [
    {
     "data": {
      "text/plain": [
       "209357"
      ]
     },
     "execution_count": 19,
     "metadata": {},
     "output_type": "execute_result"
    }
   ],
   "source": [
    "#To get the total crime count\n",
    "total_crime_count = crimes.Primary_Type.count()\n",
    "total_crime_count"
   ]
  },
  {
   "cell_type": "markdown",
   "id": "ef3ee780-9169-42f8-9d32-b34652b1f8a9",
   "metadata": {
    "tags": []
   },
   "source": [
    "#### There were only 26538 arrests made out of total crime of 209357"
   ]
  },
  {
   "cell_type": "code",
   "execution_count": 20,
   "id": "8b8b0fc1-807b-466a-bf39-a71afff87abb",
   "metadata": {
    "tags": []
   },
   "outputs": [
    {
     "data": {
      "text/plain": [
       "Description\n",
       "SIMPLE                                        24594\n",
       "DOMESTIC BATTERY SIMPLE                       19628\n",
       "$500 AND UNDER                                16033\n",
       "OVER $500                                     13043\n",
       "TO PROPERTY                                   12395\n",
       "                                              ...  \n",
       "DELIVER CANNABIS TO PERSON UNDER 18               1\n",
       "SEXUAL RELATIONS IN FAMILY                        1\n",
       "EDUCATIONAL INTIMIDAITON                          1\n",
       "GAME/CARDS                                        1\n",
       "DISCLOSE DOMESTIC VIOLENCE VICTIM LOCATION        1\n",
       "Length: 279, dtype: int64"
      ]
     },
     "execution_count": 20,
     "metadata": {},
     "output_type": "execute_result"
    }
   ],
   "source": [
    "#Understanding the 'Description' column and no. of crimes in each category\n",
    "desc = crimes.groupby('Description')\n",
    "df = desc.size().sort_values(ascending=False)\n",
    "df"
   ]
  },
  {
   "cell_type": "code",
   "execution_count": 16,
   "id": "0fb36541-677c-477f-a935-6addab62fda7",
   "metadata": {
    "tags": []
   },
   "outputs": [
    {
     "data": {
      "text/plain": [
       "Primary_Type\n",
       "THEFT                                40814\n",
       "BATTERY                              40471\n",
       "CRIMINAL DAMAGE                      25095\n",
       "ASSAULT                              20343\n",
       "DECEPTIVE PRACTICE                   17737\n",
       "OTHER OFFENSE                        13956\n",
       "MOTOR VEHICLE THEFT                  10604\n",
       "WEAPONS VIOLATION                     8978\n",
       "ROBBERY                               7920\n",
       "BURGLARY                              6662\n",
       "NARCOTICS                             5417\n",
       "CRIMINAL TRESPASS                     3406\n",
       "OFFENSE INVOLVING CHILDREN            1948\n",
       "CRIMINAL SEXUAL ASSAULT               1521\n",
       "SEX OFFENSE                           1110\n",
       "HOMICIDE                               811\n",
       "PUBLIC PEACE VIOLATION                 603\n",
       "ARSON                                  529\n",
       "STALKING                               370\n",
       "INTERFERENCE WITH PUBLIC OFFICER       314\n",
       "LIQUOR LAW VIOLATION                   184\n",
       "CONCEALED CARRY LICENSE VIOLATION      173\n",
       "INTIMIDATION                           124\n",
       "PROSTITUTION                            95\n",
       "KIDNAPPING                              87\n",
       "OBSCENITY                               51\n",
       "GAMBLING                                13\n",
       "HUMAN TRAFFICKING                       11\n",
       "NON-CRIMINAL                             4\n",
       "PUBLIC INDECENCY                         4\n",
       "OTHER NARCOTIC VIOLATION                 2\n",
       "dtype: int64"
      ]
     },
     "execution_count": 16,
     "metadata": {},
     "output_type": "execute_result"
    }
   ],
   "source": [
    "#Understanding the 'Primary_Type' column and no. of crimes in each category\n",
    "prim = crimes.groupby('Primary_Type')\n",
    "df1 = prim.size().sort_values(ascending=False)\n",
    "df1"
   ]
  },
  {
   "cell_type": "code",
   "execution_count": 21,
   "id": "1af88ad0-4639-418d-bad8-784abfa59981",
   "metadata": {
    "tags": []
   },
   "outputs": [
    {
     "data": {
      "image/png": "[encoded data removed]",
      "text/plain": [
       "<Figure size 1200x800 with 1 Axes>"
      ]
     },
     "metadata": {},
     "output_type": "display_data"
    }
   ],
   "source": [
    "import matplotlib.pyplot as plt\n",
    "# Plotting a bar chart for count of crimes by Primary Type\n",
    "\n",
    "plt.figure(figsize=(12, 8))\n",
    "\n",
    "df1.plot(kind='bar')\n",
    "\n",
    "plt.xlabel('Primary Type of Crime')\n",
    "plt.ylabel('Count')\n",
    "plt.title('Count of Crimes by Primary Type')\n",
    "plt.xticks(rotation=90)  \n",
    "plt.tight_layout()\n",
    "plt.show()"
   ]
  },
  {
   "cell_type": "markdown",
   "id": "ef19b79c-9110-456d-8fa0-1e9db3729c06",
   "metadata": {},
   "source": [
    "#### Theft and battery are among the top most crime types occuring in Chicago."
   ]
  },
  {
   "cell_type": "code",
   "execution_count": 22,
   "id": "ec82eb95-e775-47d8-8437-2f6e79a29c1e",
   "metadata": {
    "tags": []
   },
   "outputs": [
    {
     "name": "stderr",
     "output_type": "stream",
     "text": [
      "/tmp/ipykernel_5443/4220872105.py:2: UserWarning: Could not infer format, so each element will be parsed individually, falling back to `dateutil`. To ensure parsing is consistent and as-expected, please specify a format.\n",
      "  crimes['Date'] = pd.to_datetime(crimes['Date'])\n"
     ]
    }
   ],
   "source": [
    "#Breaking down the date column to get analysis over time period\n",
    "crimes['Date'] = pd.to_datetime(crimes['Date'])\n",
    "\n",
    "#Extracting the month from 'Date' and creating a new 'Month' column\n",
    "crimes['Month'] = crimes['Date'].dt.month"
   ]
  },
  {
   "cell_type": "code",
   "execution_count": 23,
   "id": "f1767c09-4dcb-47ef-96f3-ed1824013511",
   "metadata": {
    "tags": []
   },
   "outputs": [
    {
     "name": "stdout",
     "output_type": "stream",
     "text": [
      "Month  Primary_Type                     \n",
      "1      ARSON                                  39\n",
      "       ASSAULT                              1339\n",
      "       BATTERY                              2778\n",
      "       BURGLARY                              486\n",
      "       CONCEALED CARRY LICENSE VIOLATION      11\n",
      "                                            ... \n",
      "12     ROBBERY                               901\n",
      "       SEX OFFENSE                            83\n",
      "       STALKING                               28\n",
      "       THEFT                                3829\n",
      "       WEAPONS VIOLATION                     620\n",
      "Length: 333, dtype: int64\n"
     ]
    }
   ],
   "source": [
    "#Primary type of crimes taken place over the months\n",
    "months_primary = crimes.groupby(['Month','Primary_Type'])\n",
    "primary_by_months = months_primary.size()\n",
    "print(primary_by_months)"
   ]
  },
  {
   "cell_type": "code",
   "execution_count": 24,
   "id": "4b706475-9e88-4cdf-b258-96b6d94603a1",
   "metadata": {
    "tags": []
   },
   "outputs": [
    {
     "name": "stdout",
     "output_type": "stream",
     "text": [
      "Month  Arrest\n",
      "1      False     13950\n",
      "       True       2309\n",
      "2      False     11075\n",
      "       True       2061\n",
      "3      False     13554\n",
      "       True       2625\n",
      "4      False     13431\n",
      "       True       2239\n",
      "5      False     15262\n",
      "       True       2596\n",
      "6      False     16432\n",
      "       True       2435\n",
      "7      False     16969\n",
      "       True       2314\n",
      "8      False     16576\n",
      "       True       2035\n",
      "9      False     17184\n",
      "       True       2092\n",
      "10     False     17410\n",
      "       True       1988\n",
      "11     False     15475\n",
      "       True       1987\n",
      "12     False     15501\n",
      "       True       1857\n",
      "dtype: int64\n"
     ]
    }
   ],
   "source": [
    "#Arrests taken place over the months\n",
    "months_crime = crimes.groupby(['Month','Arrest'])\n",
    "crimes_by_months = months_crime.size()\n",
    "print(crimes_by_months)"
   ]
  },
  {
   "cell_type": "code",
   "execution_count": 25,
   "id": "7b97b395",
   "metadata": {
    "tags": []
   },
   "outputs": [],
   "source": [
    "#Coverting 'primary_by_months' to a dataframe to plot it visually\n",
    "crimes_by_months_df = crimes_by_months.reset_index(name='Count')"
   ]
  },
  {
   "cell_type": "code",
   "execution_count": 26,
   "id": "6b8f107d",
   "metadata": {
    "tags": []
   },
   "outputs": [],
   "source": [
    "#Pivotting the data \n",
    "pivot_df = crimes_by_months_df.pivot(index='Month',columns='Arrest',values='Count')"
   ]
  },
  {
   "cell_type": "code",
   "execution_count": 27,
   "id": "0bff724d",
   "metadata": {
    "tags": []
   },
   "outputs": [
    {
     "data": {
      "image/png": "[encoded data removed]",
      "text/plain": [
       "<Figure size 1500x800 with 1 Axes>"
      ]
     },
     "metadata": {},
     "output_type": "display_data"
    }
   ],
   "source": [
    "\n",
    "pivot_df.plot(kind='bar', stacked=False, figsize=(15, 8))\n",
    "\n",
    "#Adding labels and title\n",
    "plt.xlabel('Month')\n",
    "plt.ylabel('Number of Arrests')\n",
    "plt.title('Arrests taken place over the Months')\n",
    "plt.legend(title='Primary Type')\n",
    "plt.xticks(rotation=0)\n",
    "\n",
    "#To get months names instead of month numbers\n",
    "\n",
    "import calendar\n",
    "\n",
    "month_labels = [calendar.month_abbr[i] for i in range(1, 13)]\n",
    "plt.xticks(ticks=range(12), labels=month_labels, rotation=0)\n",
    "\n",
    "plt.show()"
   ]
  },
  {
   "cell_type": "markdown",
   "id": "7ce989a5",
   "metadata": {},
   "source": [
    "## Description of data analysis result 1"
   ]
  },
  {
   "cell_type": "markdown",
   "id": "616973f8-6c95-45bc-b2bf-9d44f03c2a5d",
   "metadata": {},
   "source": [
    "#### There were only 26538 arrests made out of total crime of 209357\n",
    "\n",
    "#### Theft and battery are among the top most crime types occuring in Chicago.\n",
    "\n",
    "#### It looked a bit complicated to plot the primary type of crimes over months as it had many different categories leading to too many bars for a month. Hence I plotted the different primary types count and plotted the arrests taken place over the months seperately\n",
    "\n",
    "#### In the arrests taken place over the months graph, the difference in the number of arrests made vs not made is too large. The most arrests were made in the month of March while the lowest arrests recorded were in the month of December which could be due to the holiday season."
   ]
  },
  {
   "cell_type": "markdown",
   "id": "656e7a54",
   "metadata": {},
   "source": [
    "# Data analysis 2 - Analysis of crime by location"
   ]
  },
  {
   "cell_type": "code",
   "execution_count": 28,
   "id": "89f9d86e-8fee-4e38-83aa-01240499c862",
   "metadata": {
    "tags": []
   },
   "outputs": [
    {
     "data": {
      "text/plain": [
       "Location_Description\n",
       "STREET                                    52122\n",
       "APARTMENT                                 44606\n",
       "RESIDENCE                                 32404\n",
       "SIDEWALK                                  12172\n",
       "PARKING LOT / GARAGE (NON RESIDENTIAL)     6486\n",
       "                                          ...  \n",
       "CHA ELEVATOR                                  1\n",
       "MOTEL                                         1\n",
       "CHA LOBBY                                     1\n",
       "FARM                                          1\n",
       "SCHOOL YARD                                   1\n",
       "Length: 128, dtype: int64"
      ]
     },
     "execution_count": 28,
     "metadata": {},
     "output_type": "execute_result"
    }
   ],
   "source": [
    "location_crimes = crimes.groupby('Location_Description')\n",
    "location_crimes_df = location_crimes.size().sort_values(ascending=False)\n",
    "location_crimes_df"
   ]
  },
  {
   "cell_type": "code",
   "execution_count": 29,
   "id": "94d8dd13-61ba-40f8-ab51-13a47bb8613f",
   "metadata": {
    "tags": []
   },
   "outputs": [
    {
     "data": {
      "text/plain": [
       "Location_Description\n",
       "STREET                                    52122\n",
       "APARTMENT                                 44606\n",
       "RESIDENCE                                 32404\n",
       "SIDEWALK                                  12172\n",
       "PARKING LOT / GARAGE (NON RESIDENTIAL)     6486\n",
       "SMALL RETAIL STORE                         5402\n",
       "ALLEY                                      4904\n",
       "RESTAURANT                                 3719\n",
       "RESIDENCE - PORCH / HALLWAY                3027\n",
       "GAS STATION                                2966\n",
       "COMMERCIAL / BUSINESS OFFICE               2926\n",
       "OTHER (SPECIFY)                            2911\n",
       "VEHICLE NON-COMMERCIAL                     2774\n",
       "DEPARTMENT STORE                           2454\n",
       "RESIDENCE - YARD (FRONT / BACK)            2430\n",
       "RESIDENCE - GARAGE                         2366\n",
       "GROCERY FOOD STORE                         1975\n",
       "PARK PROPERTY                              1499\n",
       "HOTEL / MOTEL                              1224\n",
       "BAR OR TAVERN                              1149\n",
       "dtype: int64"
      ]
     },
     "execution_count": 29,
     "metadata": {},
     "output_type": "execute_result"
    }
   ],
   "source": [
    "#Taking only the top 20 locations to plot on graph\n",
    "\n",
    "location_crimes_df = location_crimes_df.iloc[:20]\n",
    "location_crimes_df"
   ]
  },
  {
   "cell_type": "code",
   "execution_count": 30,
   "id": "c85a7bd8-650e-47f4-bd19-0ad80a596378",
   "metadata": {
    "tags": []
   },
   "outputs": [],
   "source": [
    "#Converting to df\n",
    "location_crimes_df =location_crimes_df.reset_index()"
   ]
  },
  {
   "cell_type": "code",
   "execution_count": 31,
   "id": "50bfa5b9-37b1-40e1-a7ee-a1cff6cd97b4",
   "metadata": {
    "tags": []
   },
   "outputs": [
    {
     "data": {
      "image/png": "[encoded data removed]",
      "text/plain": [
       "<Figure size 1000x600 with 1 Axes>"
      ]
     },
     "metadata": {},
     "output_type": "display_data"
    }
   ],
   "source": [
    "#Creating a scatter plot\n",
    "plt.figure(figsize=(10, 6))\n",
    "plt.scatter(location_crimes_df.index, location_crimes_df[0], s=location_crimes_df[0]/100)\n",
    "\n",
    "plt.title('Crime Frequency by Location')\n",
    "plt.xlabel('Locations')\n",
    "plt.ylabel('Number of Crimes')\n",
    "plt.xticks(ticks=location_crimes_df.index, labels=location_crimes_df['Location_Description'], rotation=90)\n",
    "plt.show()\n"
   ]
  },
  {
   "cell_type": "markdown",
   "id": "39b74590",
   "metadata": {},
   "source": [
    "## Description of data analysis result 2"
   ]
  },
  {
   "cell_type": "markdown",
   "id": "60e18f32-2d5e-4727-93fb-6ecbe2ef6487",
   "metadata": {},
   "source": [
    "#### There are many locations that are added in the data. By plotting the top 20 locations, it makes the graph easier to plot.\n",
    "#### The streets, apartment, residence and sidewalk contributes to highest number of crimes\n",
    "#### The bigger the dots, higher the count of crimes for that location."
   ]
  }
 ],
 "metadata": {
  "kernelspec": {
   "display_name": "Python 3 (ipykernel)",
   "language": "python",
   "name": "python3"
  },
  "language_info": {
   "codemirror_mode": {
    "name": "ipython",
    "version": 3
   },
   "file_extension": ".py",
   "mimetype": "text/x-python",
   "name": "python",
   "nbconvert_exporter": "python",
   "pygments_lexer": "ipython3",
   "version": "3.11.7"
  }
 },
 "nbformat": 4,
 "nbformat_minor": 5
}
